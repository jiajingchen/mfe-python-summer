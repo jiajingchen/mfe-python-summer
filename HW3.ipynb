{
 "cells": [
  {
   "cell_type": "markdown",
   "metadata": {},
   "source": [
    "Read the code below and rewrite it using only numpy functions (without for loop, if-else statements). Benchmark your implementation. How much is it faster than the naive python implementation? (hint: use np.isin)"
   ]
  },
  {
   "cell_type": "code",
   "execution_count": 148,
   "metadata": {
    "collapsed": true
   },
   "outputs": [],
   "source": [
    "import numpy as np"
   ]
  },
  {
   "cell_type": "code",
   "execution_count": 149,
   "metadata": {
    "collapsed": true
   },
   "outputs": [],
   "source": [
    "def func1(names, db):\n",
    "    idx = []\n",
    "    for i in names:\n",
    "        if i in db:\n",
    "            idx.append(db.index(i))\n",
    "    return idx"
   ]
  },
  {
   "cell_type": "code",
   "execution_count": 150,
   "metadata": {
    "collapsed": true
   },
   "outputs": [],
   "source": [
    "def myfunc (names, db):\n",
    "    return np.arange(len(db))[np.isin(db,names)]"
   ]
  },
  {
   "cell_type": "code",
   "execution_count": 151,
   "metadata": {},
   "outputs": [
    {
     "name": "stdout",
     "output_type": "stream",
     "text": [
      "1000 loops, best of 3: 2 ms per loop\n",
      "1000 loops, best of 3: 1.89 ms per loop\n"
     ]
    }
   ],
   "source": [
    "\n",
    "names = range(10000)\n",
    "db = range(5000)\n",
    "%timeit func1(names,db)\n",
    "%timeit myfunc(names,db)"
   ]
  },
  {
   "cell_type": "markdown",
   "metadata": {},
   "source": [
    "Use only numpy functions (without for loop, if-else statements) to find the largest 3 distances between points if either points is inside the circle of raidus r0. Then return these points. E.g."
   ]
  },
  {
   "cell_type": "code",
   "execution_count": 144,
   "metadata": {},
   "outputs": [],
   "source": [
    "def search_pairs(coord, cirle_r):\n",
    "    #distance to 0:\n",
    "    dis = np.sum(coord**2, axis = 1)\n",
    "    ## mask for inside the circle:\n",
    "    inside_mask = dis<=cirle_r**2\n",
    "    #either point inside\n",
    "    inside_mask_matrix = inside_mask[:, np.newaxis] ^ inside_mask\n",
    "    inside_mask_tri = np.tril(inside_mask_matrix, k = -1)\n",
    "    #distance matrix lower,\n",
    "    pair_dists = np.linalg.norm(coord[:, np.newaxis, :] - coord, axis = 2)\n",
    "    pair_dists_tri = np.tril(pair_dists,k=-1)\n",
    "\n",
    "    #print (pair_dists)\n",
    "    #print (inside_mask_tri)\n",
    "    #sort distance within valid mask\n",
    "    pair_valid_dis =pair_dists_tri[inside_mask_tri]\n",
    "    \n",
    "    sort_dis = np.sort(pair_valid_dis)[-3:]\n",
    "    index = np.where(np.isin(pair_dists_tri, sort_dis))\n",
    "    return np.transpose(index)\n",
    "\n",
    "\n",
    "    "
   ]
  },
  {
   "cell_type": "code",
   "execution_count": 145,
   "metadata": {},
   "outputs": [],
   "source": [
    "coordinates = np.array(\n",
    "[[0.968, 0.313],\n",
    " [0.692, 0.876],\n",
    " [0.895, 0.085],\n",
    " [0.039, 0.17 ],\n",
    " [0.878, 0.098]])"
   ]
  },
  {
   "cell_type": "code",
   "execution_count": 146,
   "metadata": {
    "collapsed": true
   },
   "outputs": [],
   "source": [
    "cirle_r0 = 0.9"
   ]
  },
  {
   "cell_type": "code",
   "execution_count": 147,
   "metadata": {},
   "outputs": [
    {
     "name": "stdout",
     "output_type": "stream",
     "text": [
      "[[2 1]\n",
      " [3 0]\n",
      " [3 1]]\n"
     ]
    }
   ],
   "source": [
    "print(search_pairs(coordinates, cirle_r0))"
   ]
  },
  {
   "cell_type": "code",
   "execution_count": null,
   "metadata": {
    "collapsed": true
   },
   "outputs": [],
   "source": []
  },
  {
   "cell_type": "code",
   "execution_count": null,
   "metadata": {
    "collapsed": true
   },
   "outputs": [],
   "source": []
  }
 ],
 "metadata": {
  "kernelspec": {
   "display_name": "Python 3",
   "language": "python",
   "name": "python3"
  },
  "language_info": {
   "codemirror_mode": {
    "name": "ipython",
    "version": 3
   },
   "file_extension": ".py",
   "mimetype": "text/x-python",
   "name": "python",
   "nbconvert_exporter": "python",
   "pygments_lexer": "ipython3",
   "version": "3.6.6"
  }
 },
 "nbformat": 4,
 "nbformat_minor": 2
}
