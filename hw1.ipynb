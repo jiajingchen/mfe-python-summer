{
 "cells": [
  {
   "cell_type": "markdown",
   "metadata": {},
   "source": [
    "1.1 Set up your Python environtment\n",
    "Follow instructions in README to install VirtualBox, Conda, Jupyter, and create a Github repository. Your homework will need to be submitted to this repository in order to be graded.\n"
   ]
  },
  {
   "cell_type": "code",
   "execution_count": 1,
   "metadata": {},
   "outputs": [
    {
     "name": "stdout",
     "output_type": "stream",
     "text": [
      "pandas>=1.0.0\r\n",
      "numpy\r\n",
      "matplotlib\r\n"
     ]
    }
   ],
   "source": [
    "!cat ~/mfe/python-workshop/requirements.txt"
   ]
  },
  {
   "cell_type": "code",
   "execution_count": 2,
   "metadata": {},
   "outputs": [
    {
     "name": "stdout",
     "output_type": "stream",
     "text": [
      "Requirement already satisfied: pandas>=1.0.0 in /anaconda/envs/py3/lib/python3.6/site-packages (from -r /Users/jiajing/mfe/python-workshop/requirements.txt (line 1)) (1.0.5)\n",
      "Requirement already satisfied: numpy in /anaconda/envs/py3/lib/python3.6/site-packages (from -r /Users/jiajing/mfe/python-workshop/requirements.txt (line 2)) (1.14.3)\n",
      "Requirement already satisfied: matplotlib in /anaconda/envs/py3/lib/python3.6/site-packages (from -r /Users/jiajing/mfe/python-workshop/requirements.txt (line 3)) (3.0.2)\n",
      "Requirement already satisfied: pytz>=2017.2 in /anaconda/envs/py3/lib/python3.6/site-packages (from pandas>=1.0.0->-r /Users/jiajing/mfe/python-workshop/requirements.txt (line 1)) (2017.2)\n",
      "Requirement already satisfied: python-dateutil>=2.6.1 in /anaconda/envs/py3/lib/python3.6/site-packages (from pandas>=1.0.0->-r /Users/jiajing/mfe/python-workshop/requirements.txt (line 1)) (2.8.1)\n",
      "Requirement already satisfied: cycler>=0.10 in /anaconda/envs/py3/lib/python3.6/site-packages (from matplotlib->-r /Users/jiajing/mfe/python-workshop/requirements.txt (line 3)) (0.10.0)\n",
      "Requirement already satisfied: kiwisolver>=1.0.1 in /anaconda/envs/py3/lib/python3.6/site-packages (from matplotlib->-r /Users/jiajing/mfe/python-workshop/requirements.txt (line 3)) (1.0.1)\n",
      "Requirement already satisfied: pyparsing!=2.0.4,!=2.1.2,!=2.1.6,>=2.0.1 in /anaconda/envs/py3/lib/python3.6/site-packages (from matplotlib->-r /Users/jiajing/mfe/python-workshop/requirements.txt (line 3)) (2.1.4)\n",
      "Requirement already satisfied: six>=1.5 in /anaconda/envs/py3/lib/python3.6/site-packages (from python-dateutil>=2.6.1->pandas>=1.0.0->-r /Users/jiajing/mfe/python-workshop/requirements.txt (line 1)) (1.10.0)\n",
      "Requirement already satisfied: setuptools in /anaconda/envs/py3/lib/python3.6/site-packages/setuptools-27.2.0-py3.6.egg (from kiwisolver>=1.0.1->matplotlib->-r /Users/jiajing/mfe/python-workshop/requirements.txt (line 3)) (27.2.0)\n",
      "\u001b[33mYou are using pip version 18.1, however version 20.2b1 is available.\n",
      "You should consider upgrading via the 'pip install --upgrade pip' command.\u001b[0m\n"
     ]
    }
   ],
   "source": [
    "!pip install -r ~/mfe/python-workshop/requirements.txt"
   ]
  },
  {
   "cell_type": "code",
   "execution_count": 13,
   "metadata": {
    "collapsed": true
   },
   "outputs": [],
   "source": [
    "import numpy as np"
   ]
  },
  {
   "cell_type": "markdown",
   "metadata": {},
   "source": [
    "1.2 Write a Jupyter Magic\n",
    "Write a Jupyter Magic that count the number of words in the cell. Try to make it both a line and\n",
    "cell magic. Demonstrate its usage with examples.\n",
    "You can refer to this documentation in creating a magic:\n",
    "https://ipython.readthedocs.io/en/stable/config/custommagics.html\n",
    "Line magic:\n",
    "\n"
   ]
  },
  {
   "cell_type": "code",
   "execution_count": 3,
   "metadata": {
    "collapsed": true
   },
   "outputs": [],
   "source": [
    "from IPython.core.magic import (register_line_magic, register_cell_magic,\n",
    "                                register_line_cell_magic)"
   ]
  },
  {
   "cell_type": "code",
   "execution_count": 60,
   "metadata": {
    "collapsed": true
   },
   "outputs": [],
   "source": [
    "@register_line_magic\n",
    "def lmagic(line):\n",
    "    \n",
    "    return f\"my line magic: {line}\""
   ]
  },
  {
   "cell_type": "code",
   "execution_count": 61,
   "metadata": {},
   "outputs": [
    {
     "data": {
      "text/plain": [
       "'my line magic: myline'"
      ]
     },
     "execution_count": 61,
     "metadata": {},
     "output_type": "execute_result"
    }
   ],
   "source": [
    "%lmagic myline\n"
   ]
  },
  {
   "cell_type": "markdown",
   "metadata": {},
   "source": [
    "1.3 Profile the speed of list comprehension vs. for loops\n",
    "Design some experiments to compare the speed of list comprehension and using a for loop. Practice\n",
    "using %time/%%time magics."
   ]
  },
  {
   "cell_type": "code",
   "execution_count": 6,
   "metadata": {},
   "outputs": [
    {
     "name": "stdout",
     "output_type": "stream",
     "text": [
      "CPU times: user 145 ms, sys: 17.2 ms, total: 162 ms\n",
      "Wall time: 164 ms\n"
     ]
    }
   ],
   "source": [
    "%%time\n",
    "mylist = []\n",
    "for i in range(1,1000000):\n",
    "    mylist.append(i*10)"
   ]
  },
  {
   "cell_type": "code",
   "execution_count": 7,
   "metadata": {},
   "outputs": [
    {
     "name": "stdout",
     "output_type": "stream",
     "text": [
      "CPU times: user 67.3 ms, sys: 14.3 ms, total: 81.6 ms\n",
      "Wall time: 82.9 ms\n"
     ]
    }
   ],
   "source": [
    "%%time \n",
    "mylist2 = [i*10 for i in range(1,1000000)]"
   ]
  },
  {
   "cell_type": "code",
   "execution_count": 14,
   "metadata": {},
   "outputs": [
    {
     "name": "stdout",
     "output_type": "stream",
     "text": [
      "CPU times: user 128 ms, sys: 38.3 ms, total: 167 ms\n",
      "Wall time: 180 ms\n"
     ]
    }
   ],
   "source": [
    "%%time \n",
    "mylist3 = [10*np.array(range(1, 1000000))]"
   ]
  },
  {
   "cell_type": "markdown",
   "metadata": {},
   "source": [
    "1.4 Prime numbers\n",
    "Write a function to return all prime numbers in a list. Can you do this with one line of list\n",
    "comprehension?\n"
   ]
  },
  {
   "cell_type": "code",
   "execution_count": 15,
   "metadata": {},
   "outputs": [
    {
     "data": {
      "text/plain": [
       "[2, 3, 5, 7, 11, 13, 17, 19]"
      ]
     },
     "execution_count": 15,
     "metadata": {},
     "output_type": "execute_result"
    }
   ],
   "source": [
    "[p for p in range(2,20) if 0 not in [p%d for d in range(2,p)]]"
   ]
  },
  {
   "cell_type": "markdown",
   "metadata": {},
   "source": [
    "1.5 Extend the Vector class\n",
    "• Extend the Vector class example to support any dimension.\n",
    "• Think of operations/methods that would be useful when using the Vector class. Do some\n",
    "research on dunder methods to see how you can implement them in a Pythonic way.\n",
    "• Do not worry about performance.\n",
    "• Some examples of usages are."
   ]
  },
  {
   "cell_type": "code",
   "execution_count": 161,
   "metadata": {},
   "outputs": [],
   "source": [
    "class Vector:\n",
    "\n",
    "    def __init__(self, x=0, y=0): \n",
    "        self.x = x\n",
    "        self.y = y\n",
    "\n",
    "    def __repr__(self):\n",
    "        return f'Vector({self.x}, {self.y})'\n",
    "    \n",
    "    def __str__(self):\n",
    "        return f\"({self.x}, {self.y})\"\n",
    "\n",
    "    def __abs__(self):\n",
    "        return hypot(self.x, self.y)\n",
    "\n",
    "    def __add__(self, other): \n",
    "        x = self.x + other.x\n",
    "        y = self.y + other.y \n",
    "        return Vector(x, y)\n",
    "\n",
    "    def __mul__(self, scalar):\n",
    "        return Vector(self.x * scalar, self.y * scalar)\n",
    "    \n",
    "    ## add additional dunder:\n",
    "    def __len__(self):\n",
    "        return int(np.sqrt(self.x*2+self.y*2))\n",
    "    \n",
    "    def __reversed__(self):\n",
    "        return Vector(self.y, self.x)\n",
    "    def __pow__(self,p):\n",
    "        return Vector(*(i**p for i in self._vec))\n"
   ]
  },
  {
   "cell_type": "code",
   "execution_count": 162,
   "metadata": {},
   "outputs": [
    {
     "name": "stdout",
     "output_type": "stream",
     "text": [
      "['__abs__', '__add__', '__class__', '__delattr__', '__dict__', '__dir__', '__doc__', '__eq__', '__format__', '__ge__', '__getattribute__', '__gt__', '__hash__', '__init__', '__init_subclass__', '__le__', '__len__', '__lt__', '__module__', '__mul__', '__ne__', '__new__', '__pow__', '__reduce__', '__reduce_ex__', '__repr__', '__reversed__', '__setattr__', '__sizeof__', '__str__', '__subclasshook__', '__weakref__', 'x', 'y']\n"
     ]
    }
   ],
   "source": [
    "print(dir(Vector(2, 4)))"
   ]
  },
  {
   "cell_type": "code",
   "execution_count": 163,
   "metadata": {},
   "outputs": [
    {
     "data": {
      "text/plain": [
       "3"
      ]
     },
     "execution_count": 163,
     "metadata": {},
     "output_type": "execute_result"
    }
   ],
   "source": [
    "v = Vector(2, 4)\n",
    "len(v)"
   ]
  },
  {
   "cell_type": "code",
   "execution_count": 166,
   "metadata": {},
   "outputs": [
    {
     "ename": "AttributeError",
     "evalue": "'Vector' object has no attribute '_vec'",
     "output_type": "error",
     "traceback": [
      "\u001b[0;31m---------------------------------------------------------------------------\u001b[0m",
      "\u001b[0;31mAttributeError\u001b[0m                            Traceback (most recent call last)",
      "\u001b[0;32m<ipython-input-166-13b5a69cfe5c>\u001b[0m in \u001b[0;36m<module>\u001b[0;34m()\u001b[0m\n\u001b[0;32m----> 1\u001b[0;31m \u001b[0mv\u001b[0m\u001b[0;34m**\u001b[0m \u001b[0;36m2\u001b[0m\u001b[0;34m\u001b[0m\u001b[0m\n\u001b[0m",
      "\u001b[0;32m<ipython-input-161-ddd2a20d45ea>\u001b[0m in \u001b[0;36m__pow__\u001b[0;34m(self, p)\u001b[0m\n\u001b[1;32m     29\u001b[0m         \u001b[0;32mreturn\u001b[0m \u001b[0mVector\u001b[0m\u001b[0;34m(\u001b[0m\u001b[0mself\u001b[0m\u001b[0;34m.\u001b[0m\u001b[0my\u001b[0m\u001b[0;34m,\u001b[0m \u001b[0mself\u001b[0m\u001b[0;34m.\u001b[0m\u001b[0mx\u001b[0m\u001b[0;34m)\u001b[0m\u001b[0;34m\u001b[0m\u001b[0m\n\u001b[1;32m     30\u001b[0m     \u001b[0;32mdef\u001b[0m \u001b[0m__pow__\u001b[0m\u001b[0;34m(\u001b[0m\u001b[0mself\u001b[0m\u001b[0;34m,\u001b[0m\u001b[0mp\u001b[0m\u001b[0;34m)\u001b[0m\u001b[0;34m:\u001b[0m\u001b[0;34m\u001b[0m\u001b[0m\n\u001b[0;32m---> 31\u001b[0;31m         \u001b[0;32mreturn\u001b[0m \u001b[0mVector\u001b[0m\u001b[0;34m(\u001b[0m\u001b[0;34m*\u001b[0m\u001b[0;34m(\u001b[0m\u001b[0mi\u001b[0m\u001b[0;34m**\u001b[0m\u001b[0mp\u001b[0m \u001b[0;32mfor\u001b[0m \u001b[0mi\u001b[0m \u001b[0;32min\u001b[0m \u001b[0mself\u001b[0m\u001b[0;34m.\u001b[0m\u001b[0m_vec\u001b[0m\u001b[0;34m)\u001b[0m\u001b[0;34m)\u001b[0m\u001b[0;34m\u001b[0m\u001b[0m\n\u001b[0m",
      "\u001b[0;31mAttributeError\u001b[0m: 'Vector' object has no attribute '_vec'"
     ]
    }
   ],
   "source": [
    "v**2"
   ]
  },
  {
   "cell_type": "code",
   "execution_count": 168,
   "metadata": {},
   "outputs": [
    {
     "data": {
      "text/plain": [
       "Vector(4, 2)"
      ]
     },
     "execution_count": 168,
     "metadata": {},
     "output_type": "execute_result"
    }
   ],
   "source": [
    "reversed(Vector(2, 4))"
   ]
  },
  {
   "cell_type": "markdown",
   "metadata": {},
   "source": [
    "1.6 Case-insensitive dictionary\n",
    "• Write a CaseInsensitiveDict class that is insensitive to the case of keys.\n",
    "• It’s a good idea to inherit from collections.UserDict.\n",
    "• Use examples to demonstrate how it should be used."
   ]
  },
  {
   "cell_type": "code",
   "execution_count": 185,
   "metadata": {},
   "outputs": [],
   "source": [
    "from collections import UserDict  \n",
    "\n",
    "class CaseInsensitiveDict(UserDict):\n",
    "    def __init__(self):\n",
    "        self.mapping_keys = {}\n",
    "        super().__init__()\n",
    "    def __delitem__(self, key):\n",
    "        del self.mapping_keys[key.lower()]\n",
    "        super().__delitem__(key.lower())\n",
    "        \n",
    "    def __setitem__(self, key, value): \n",
    "        self.mapping_keys[key.lower()] = key #store the mapping from lower to k\n",
    "        \n",
    "        super().__setitem__(key.lower(), value)\n",
    "    def __getitem__(self, key):\n",
    "        return super().__getitem__(key.lower())"
   ]
  },
  {
   "cell_type": "code",
   "execution_count": 187,
   "metadata": {},
   "outputs": [],
   "source": [
    "d = CaseInsensitiveDict()"
   ]
  },
  {
   "cell_type": "code",
   "execution_count": 188,
   "metadata": {},
   "outputs": [],
   "source": [
    "d_ = {'a':1, \n",
    "    'b': 2, \n",
    "    'c': 3, \n",
    "    'ABC': 4} "
   ]
  },
  {
   "cell_type": "code",
   "execution_count": 191,
   "metadata": {},
   "outputs": [],
   "source": [
    "for key, value in d_.items():\n",
    "    d[key] = value"
   ]
  },
  {
   "cell_type": "code",
   "execution_count": 192,
   "metadata": {},
   "outputs": [
    {
     "data": {
      "text/plain": [
       "{'a': 1, 'b': 2, 'c': 3, 'abc': 4}"
      ]
     },
     "execution_count": 192,
     "metadata": {},
     "output_type": "execute_result"
    }
   ],
   "source": [
    "d"
   ]
  },
  {
   "cell_type": "code",
   "execution_count": 193,
   "metadata": {
    "collapsed": true
   },
   "outputs": [],
   "source": [
    "d['B'] = 5\n",
    "d['ABC'] = 1"
   ]
  },
  {
   "cell_type": "code",
   "execution_count": 194,
   "metadata": {},
   "outputs": [
    {
     "data": {
      "text/plain": [
       "{'a': 1, 'b': 5, 'c': 3, 'abc': 1}"
      ]
     },
     "execution_count": 194,
     "metadata": {},
     "output_type": "execute_result"
    }
   ],
   "source": [
    "d"
   ]
  },
  {
   "cell_type": "code",
   "execution_count": 195,
   "metadata": {},
   "outputs": [
    {
     "data": {
      "text/plain": [
       "1"
      ]
     },
     "execution_count": 195,
     "metadata": {},
     "output_type": "execute_result"
    }
   ],
   "source": [
    "d['A']"
   ]
  },
  {
   "cell_type": "code",
   "execution_count": 196,
   "metadata": {},
   "outputs": [
    {
     "data": {
      "text/plain": [
       "1"
      ]
     },
     "execution_count": 196,
     "metadata": {},
     "output_type": "execute_result"
    }
   ],
   "source": [
    "d['AbC']"
   ]
  },
  {
   "cell_type": "code",
   "execution_count": null,
   "metadata": {
    "collapsed": true
   },
   "outputs": [],
   "source": []
  }
 ],
 "metadata": {
  "kernelspec": {
   "display_name": "Python 3",
   "language": "python",
   "name": "python3"
  },
  "language_info": {
   "codemirror_mode": {
    "name": "ipython",
    "version": 3
   },
   "file_extension": ".py",
   "mimetype": "text/x-python",
   "name": "python",
   "nbconvert_exporter": "python",
   "pygments_lexer": "ipython3",
   "version": "3.6.6"
  }
 },
 "nbformat": 4,
 "nbformat_minor": 2
}
