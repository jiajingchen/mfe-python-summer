{
 "cells": [
  {
   "cell_type": "markdown",
   "metadata": {},
   "source": [
    "# Homework"
   ]
  },
  {
   "cell_type": "markdown",
   "metadata": {},
   "source": [
    "## Merge sorted stream\n",
    "Write a generator function that takes two sorted streams (generators), and return a generator that can produce a merged stream in sorted order.\n",
    "\n",
    "Bonus point: can you make it generic such that it can merge any number of streams?\n",
    "\n",
    "\n",
    "```python\n",
    "def merge_sorted_stream(stream1, stream2):\n",
    "    yield ...\n",
    "\n",
    "stream1 = range(0, 10, 2)\n",
    "stream2 = range(1, 10, 2)\n",
    "\n",
    "for x in merge_sorted_stream(stream1, stream2):\n",
    "    print(x)\n",
    "\n",
    "0 \n",
    "1\n",
    "2\n",
    "3\n",
    "4\n",
    "5\n",
    "6\n",
    "7\n",
    "8\n",
    "9\n",
    "```"
   ]
  },
  {
   "cell_type": "code",
   "execution_count": 38,
   "metadata": {
    "collapsed": true
   },
   "outputs": [],
   "source": [
    "def merge_two_sorted_stream(stream1, stream2):\n",
    "    stream = list(stream1) + list(stream2)\n",
    "    stream.sort()\n",
    "    for i in stream:\n",
    "        yield i"
   ]
  },
  {
   "cell_type": "code",
   "execution_count": 42,
   "metadata": {
    "collapsed": true
   },
   "outputs": [],
   "source": [
    "#can merge any number\n",
    "def merge_sorted_stream(*streams):\n",
    "    if len(streams)==0:\n",
    "        return\n",
    "    if len(streams)==1:\n",
    "        for i in streams[0]:\n",
    "            yield i\n",
    "    else: #using self recursion if more than 2 streams\n",
    "        merge_first_two = merge_two_sorted_stream(streams[0],streams[1])\n",
    "        if(len(streams) == 2):\n",
    "            for i in merge_first_two:\n",
    "                yield i\n",
    "        else:\n",
    "            rest_streams = merge_sorted_stream(merge_first_two, *streams[2:])\n",
    "            for x in rest_streams:\n",
    "                yield x"
   ]
  },
  {
   "cell_type": "code",
   "execution_count": 43,
   "metadata": {},
   "outputs": [
    {
     "name": "stdout",
     "output_type": "stream",
     "text": [
      "0\n",
      "1\n",
      "2\n",
      "3\n",
      "4\n",
      "5\n",
      "6\n",
      "7\n",
      "8\n",
      "9\n"
     ]
    }
   ],
   "source": [
    "\n",
    "stream1 = range(0, 10, 2) \n",
    "stream2 = range(1, 10, 2)\n",
    "stream3 = range(4, 14, 3)\n",
    "\n",
    "for x in merge_two_sorted_stream(stream1, stream2):\n",
    "    print(x)"
   ]
  },
  {
   "cell_type": "code",
   "execution_count": 44,
   "metadata": {},
   "outputs": [
    {
     "name": "stdout",
     "output_type": "stream",
     "text": [
      "0\n",
      "1\n",
      "2\n",
      "3\n",
      "4\n",
      "4\n",
      "5\n",
      "6\n",
      "7\n",
      "7\n",
      "8\n",
      "9\n",
      "10\n",
      "13\n"
     ]
    }
   ],
   "source": [
    "for x in merge_sorted_stream(stream1, stream2, stream3):\n",
    "    print(x)"
   ]
  },
  {
   "cell_type": "markdown",
   "metadata": {},
   "source": [
    "## Tree traversal\n",
    "\n",
    "Unlike linear data structures (Array, Linked List, Queues, Stacks, etc) which have only one logical way to traverse them, trees can be traversed in different ways. Following are the generally used ways for traversing trees.\n",
    "\n",
    "```\n",
    "      1\n",
    "    /  \\ \n",
    "   2    3\n",
    "  / \\\n",
    " 4   5\n",
    "```\n",
    "\n",
    "Depth First Traversals: \n",
    "  * (a) Inorder (Left, Root, Right) : 4 2 5 1 3\n",
    "  * (b) Preorder (Root, Left, Right) : 1 2 4 5 3\n",
    "  * (c) Postorder (Left, Right, Root) : 4 5 2 3 1\n",
    "\n",
    "Define a Tree class with a method that can walk through the tree in different orders. Hint: use generator will make your life a lot easier.\n",
    "\n",
    "```python\n",
    "class TreeNode:\n",
    "    \n",
    "    ...\n",
    "\n",
    "    def in_order(self):\n",
    "        pass\n",
    "        \n",
    "    def pre_order(self):\n",
    "        pass\n",
    "        \n",
    "    def post_order(self):\n",
    "        pass\n",
    "\n",
    "    \n",
    "root = TreeNode(1)\n",
    "root.left = TreeNode(2)\n",
    "root.right = TreeNode(3)\n",
    "root.left.left = TreeNode(4)\n",
    "root.left.right = TreeNode(5)\n",
    "\n",
    ">>> print(' -> '.join(item for item in root.in_order()))\n",
    "4 -> 2 -> 5 -> 1 -> 3    \n",
    "\n",
    "\n",
    "```\n",
    "   "
   ]
  },
  {
   "cell_type": "code",
   "execution_count": 45,
   "metadata": {
    "collapsed": true
   },
   "outputs": [],
   "source": [
    "class TreeNode:\n",
    "    def __init__(self,n):\n",
    "        self.item = str(n)\n",
    "        self.left = None\n",
    "        self.right = None\n",
    "        \n",
    "    def __str__(self):\n",
    "        return str(self.item)\n",
    "    \n",
    "    def in_order(self):#left, self, right\n",
    "        if self.left:\n",
    "            yield from self.left.in_order()\n",
    "        yield self.item\n",
    "        if self.right:\n",
    "            yield from self.right.in_order()\n",
    "\n",
    "    def pre_order(self):#self, left, right \n",
    "        yield self.item\n",
    "        if self.left:\n",
    "            yield from self.left.pre_order()\n",
    "        if self.right:\n",
    "            yield from self.right.pre_order()\n",
    "    \n",
    "    def post_order(self):#left, right then self\n",
    "        if self.left:\n",
    "            yield from self.left.post_order()\n",
    "        if self.right:\n",
    "            yield from self.right.post_order()\n",
    "        yield self.item\n"
   ]
  },
  {
   "cell_type": "code",
   "execution_count": 46,
   "metadata": {},
   "outputs": [
    {
     "name": "stdout",
     "output_type": "stream",
     "text": [
      "4 -> 2 -> 5 -> 1 -> 3\n",
      "1 -> 2 -> 4 -> 5 -> 3\n",
      "4 -> 5 -> 2 -> 3 -> 1\n"
     ]
    }
   ],
   "source": [
    "root = TreeNode(1)\n",
    "root.left = TreeNode(2)\n",
    "root.right = TreeNode(3)\n",
    "root.left.left = TreeNode(4)\n",
    "root.left.right = TreeNode(5)\n",
    "\n",
    "print(' -> '.join(item for item in root.in_order()))\n",
    "print(' -> '.join(item for item in root.pre_order()))\n",
    "print(' -> '.join(item for item in root.post_order()))"
   ]
  },
  {
   "cell_type": "markdown",
   "metadata": {},
   "source": [
    "## timer class:"
   ]
  },
  {
   "cell_type": "code",
   "execution_count": 47,
   "metadata": {},
   "outputs": [],
   "source": [
    "#timer\n",
    "import time\n",
    "\n",
    "\n",
    "class timer:\n",
    "  \n",
    "\n",
    "    def __call__(self,func): #make it a callable for decorator\n",
    "        def inner(x):\n",
    "            self.start = time.time()\n",
    "            func(x)\n",
    "            self.end = time.time()\n",
    "            print(\"Time: %1f\" % (self.end - self.start))\n",
    "        return inner\n",
    "\n",
    "    def __enter__(self):\n",
    "        self.start = time.time()\n",
    "        return self\n",
    "    \n",
    "    def __exit__(self,type,val,trace):\n",
    "        self.end = time.time()\n",
    "        print(\"Time: %1f\" % (self.end - self.start))\n",
    "        return True\n",
    "    \n",
    "\n"
   ]
  },
  {
   "cell_type": "code",
   "execution_count": 48,
   "metadata": {},
   "outputs": [
    {
     "name": "stdout",
     "output_type": "stream",
     "text": [
      "Time: 1.001368\n",
      "Time: 1.005179\n"
     ]
    }
   ],
   "source": [
    "with timer() as timer:\n",
    "    time.sleep(1)        \n",
    "       \n",
    "@timer\n",
    "def sleep(secs):\n",
    "    time.sleep(secs)\n",
    "\n",
    "sleep(1)\n"
   ]
  },
  {
   "cell_type": "code",
   "execution_count": null,
   "metadata": {
    "collapsed": true
   },
   "outputs": [],
   "source": []
  },
  {
   "cell_type": "code",
   "execution_count": null,
   "metadata": {
    "collapsed": true
   },
   "outputs": [],
   "source": []
  }
 ],
 "metadata": {
  "kernelspec": {
   "display_name": "Python 3",
   "language": "python",
   "name": "python3"
  },
  "language_info": {
   "codemirror_mode": {
    "name": "ipython",
    "version": 3
   },
   "file_extension": ".py",
   "mimetype": "text/x-python",
   "name": "python",
   "nbconvert_exporter": "python",
   "pygments_lexer": "ipython3",
   "version": "3.6.6"
  },
  "toc": {
   "base_numbering": 1,
   "nav_menu": {},
   "number_sections": true,
   "sideBar": true,
   "skip_h1_title": false,
   "title_cell": "Table of Contents",
   "title_sidebar": "Contents",
   "toc_cell": false,
   "toc_position": {},
   "toc_section_display": true,
   "toc_window_display": false
  },
  "varInspector": {
   "cols": {
    "lenName": 16,
    "lenType": 16,
    "lenVar": 40
   },
   "kernels_config": {
    "python": {
     "delete_cmd_postfix": "",
     "delete_cmd_prefix": "del ",
     "library": "var_list.py",
     "varRefreshCmd": "print(var_dic_list())"
    },
    "r": {
     "delete_cmd_postfix": ") ",
     "delete_cmd_prefix": "rm(",
     "library": "var_list.r",
     "varRefreshCmd": "cat(var_dic_list()) "
    }
   },
   "types_to_exclude": [
    "module",
    "function",
    "builtin_function_or_method",
    "instance",
    "_Feature"
   ],
   "window_display": false
  }
 },
 "nbformat": 4,
 "nbformat_minor": 4
}
